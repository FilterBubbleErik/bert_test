{
 "cells": [
  {
   "cell_type": "markdown",
   "id": "66f3319d-bc5a-4f7c-84d1-7ffe7e8b420e",
   "metadata": {},
   "source": [
    "# Bert Test\n",
    "\n",
    "Test running Bert like explained on https://towardsml.com/2019/09/17/bert-explained-a-complete-guide-with-theory-and-tutorial/"
   ]
  },
  {
   "cell_type": "code",
   "execution_count": 1,
   "id": "72787403-b3b0-4246-8227-1589362aeff2",
   "metadata": {},
   "outputs": [],
   "source": [
    "import pandas as pd\n",
    "import re"
   ]
  },
  {
   "cell_type": "code",
   "execution_count": 6,
   "id": "afefe7b5-aebd-4dce-bad3-f01db684fe95",
   "metadata": {},
   "outputs": [],
   "source": [
    "DATA_DIR = \"../bert/data/\""
   ]
  },
  {
   "cell_type": "markdown",
   "id": "94acfd3d-c1a2-4c70-ab2f-17a2232ad9bc",
   "metadata": {},
   "source": [
    "## 1. Convert data to Bert format"
   ]
  },
  {
   "cell_type": "code",
   "execution_count": 55,
   "id": "2dca398d-ad95-407d-bd9e-cb7c41c04a6c",
   "metadata": {},
   "outputs": [],
   "source": [
    "def select_four_bert_columns(df_data):\n",
    "    df_bert = df_data.loc[:,[\"UserName\", \"Sentiment\"]]\n",
    "    df_bert[\"Filler\"] = len(df_bert)*['f']\n",
    "    df_bert[\"OriginalTweet\"] = df_data[\"OriginalTweet\"]\n",
    "    return df_bert"
   ]
  },
  {
   "cell_type": "code",
   "execution_count": 56,
   "id": "f1fc06e6-811c-464e-affc-52c0c976c565",
   "metadata": {},
   "outputs": [],
   "source": [
    "def make_labels_numeric(df_bert):\n",
    "    seen = {}\n",
    "    labels = []\n",
    "    for i, row in df_bert.iterrows():\n",
    "        if row[\"Sentiment\"] not in seen:\n",
    "            seen[row[\"Sentiment\"]] = len(seen)\n",
    "        labels.append(seen[row[\"Sentiment\"]])\n",
    "    df_bert[\"Sentiment\"] = labels\n",
    "    return df_bert"
   ]
  },
  {
   "cell_type": "code",
   "execution_count": 57,
   "id": "a416cf5e-0438-4438-bf3b-cdc59355fd0d",
   "metadata": {},
   "outputs": [],
   "source": [
    "def remove_newlines_from_tweets(df_bert):\n",
    "    texts = []\n",
    "    for i, row in df_bert.iterrows():\n",
    "        texts.append(row[\"OriginalTweet\"].replace('\\n', '').replace('\\r', ''))\n",
    "    df_bert[\"OriginalTweet\"] = texts\n",
    "    return df_bert"
   ]
  },
  {
   "cell_type": "code",
   "execution_count": 58,
   "id": "d8349e55-c383-4591-a28d-b4473b7c6bf1",
   "metadata": {},
   "outputs": [],
   "source": [
    "df_tweets = pd.read_csv(DATA_DIR + \"/Corona_NLP_test.csv\")"
   ]
  },
  {
   "cell_type": "code",
   "execution_count": 59,
   "id": "bc1ca6a0-a59f-49e3-8371-11bbe341bc97",
   "metadata": {},
   "outputs": [],
   "source": [
    "df_bert = select_four_bert_columns(df_tweets)"
   ]
  },
  {
   "cell_type": "code",
   "execution_count": 60,
   "id": "ee9bc959-0ded-40b9-a64a-a0eebbf0c8ef",
   "metadata": {},
   "outputs": [],
   "source": [
    "df_bert = make_labels_numeric(df_bert)"
   ]
  },
  {
   "cell_type": "code",
   "execution_count": 61,
   "id": "dfe8df18-0361-4d27-ade3-932782c3b2ef",
   "metadata": {},
   "outputs": [],
   "source": [
    "df_bert = remove_newlines_from_tweets(df_bert)"
   ]
  },
  {
   "cell_type": "code",
   "execution_count": 62,
   "id": "5c911618-2a2c-414a-a966-5edf8d1ee639",
   "metadata": {},
   "outputs": [],
   "source": [
    "df_bert.iloc[:3000].to_csv(DATA_DIR + \"train.tsv\", sep='\\t', index=None, header=False)\n",
    "df_bert.iloc[3000:3400].to_csv(DATA_DIR + \"dev.tsv\", sep='\\t', index=None, header=False)\n",
    "df_bert.iloc[3400:].to_csv(DATA_DIR + \"test.tsv\", sep='\\t', index=None, header=False)"
   ]
  },
  {
   "cell_type": "markdown",
   "id": "aa4b3430-dd88-4bef-94e6-d93444410d08",
   "metadata": {},
   "source": [
    "## 2. Run Bert\n",
    "\n",
    "Process fails while running: `pip3 install tensorflow`"
   ]
  },
  {
   "cell_type": "code",
   "execution_count": 67,
   "id": "e58d02ed-3d0b-4810-b391-28dbe48a23de",
   "metadata": {},
   "outputs": [],
   "source": [
    "df_bert_train = pd.read_csv(\"../bert/data/train.tsv\", sep='\\t')"
   ]
  },
  {
   "cell_type": "code",
   "execution_count": 68,
   "id": "a1f2d51b-647c-4b87-ad9c-32d683f8cd7b",
   "metadata": {},
   "outputs": [],
   "source": [
    "df_bert_dev = pd.read_csv(\"../bert/data/dev.tsv\", sep='\\t')"
   ]
  },
  {
   "cell_type": "code",
   "execution_count": 69,
   "id": "05406c17-f37e-4ec4-8113-92dcaa7ef666",
   "metadata": {},
   "outputs": [],
   "source": [
    "df_bert_test = pd.read_csv(\"../bert/data/test.tsv\", sep='\\t')"
   ]
  },
  {
   "cell_type": "code",
   "execution_count": 70,
   "id": "a4f25307-4c90-4029-bf7a-e835fb0d061a",
   "metadata": {},
   "outputs": [
    {
     "data": {
      "text/plain": [
       "(2999, 399, 397)"
      ]
     },
     "execution_count": 70,
     "metadata": {},
     "output_type": "execute_result"
    }
   ],
   "source": [
    "len(df_bert_train), len(df_bert_dev), len(df_bert_test)"
   ]
  },
  {
   "cell_type": "code",
   "execution_count": null,
   "id": "8efcfbf1-2575-41ee-a5cf-7fb0338b574b",
   "metadata": {},
   "outputs": [],
   "source": []
  }
 ],
 "metadata": {
  "kernelspec": {
   "display_name": "python37",
   "language": "python",
   "name": "python37"
  },
  "language_info": {
   "codemirror_mode": {
    "name": "ipython",
    "version": 3
   },
   "file_extension": ".py",
   "mimetype": "text/x-python",
   "name": "python",
   "nbconvert_exporter": "python",
   "pygments_lexer": "ipython3",
   "version": "3.7.3"
  }
 },
 "nbformat": 4,
 "nbformat_minor": 5
}
