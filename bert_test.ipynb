{
 "cells": [
  {
   "cell_type": "markdown",
   "id": "66f3319d-bc5a-4f7c-84d1-7ffe7e8b420e",
   "metadata": {},
   "source": [
    "# Bert Test\n",
    "\n",
    "Test running Bert like explained on https://towardsml.com/2019/09/17/bert-explained-a-complete-guide-with-theory-and-tutorial/"
   ]
  },
  {
   "cell_type": "markdown",
   "id": "94acfd3d-c1a2-4c70-ab2f-17a2232ad9bc",
   "metadata": {},
   "source": [
    "## 1. Convert data to Bert format"
   ]
  },
  {
   "cell_type": "code",
   "execution_count": 36,
   "id": "72787403-b3b0-4246-8227-1589362aeff2",
   "metadata": {},
   "outputs": [],
   "source": [
    "import pandas as pd\n",
    "import re"
   ]
  },
  {
   "cell_type": "code",
   "execution_count": 4,
   "id": "d8349e55-c383-4591-a28d-b4473b7c6bf1",
   "metadata": {},
   "outputs": [],
   "source": [
    "test_df = pd.read_csv(\"data/Corona_NLP_test.csv\")"
   ]
  },
  {
   "cell_type": "code",
   "execution_count": 24,
   "id": "2dca398d-ad95-407d-bd9e-cb7c41c04a6c",
   "metadata": {},
   "outputs": [],
   "source": [
    "bert_df = test_df.loc[:,[\"UserName\", \"Sentiment\"]]\n",
    "bert_df[\"Filler\"] = len(bert_df)*['f']\n",
    "bert_df[\"OriginalTweet\"] = test_df[\"OriginalTweet\"]"
   ]
  },
  {
   "cell_type": "code",
   "execution_count": 51,
   "id": "a3b86fe1-894b-481b-9ddf-fd0998f52516",
   "metadata": {},
   "outputs": [],
   "source": [
    "seen = {}\n",
    "labels = []\n",
    "texts = []\n",
    "for i, row in bert_df.iterrows():\n",
    "    if row[\"Sentiment\"] not in seen:\n",
    "        seen[row[\"Sentiment\"]] = len(seen)\n",
    "    labels.append(seen[row[\"Sentiment\"]])\n",
    "    texts.append(re.sub(r'\\n', ' ', row[\"OriginalTweet\"]))\n",
    "bert_df[\"Sentiment\"] = labels\n",
    "bert_df[\"OriginalTweet\"] = texts"
   ]
  },
  {
   "cell_type": "code",
   "execution_count": 55,
   "id": "5c911618-2a2c-414a-a966-5edf8d1ee639",
   "metadata": {},
   "outputs": [],
   "source": [
    "bert_df.to_csv(\"data/bert.tsv\", sep='\\t', index=None, header=False)"
   ]
  },
  {
   "cell_type": "markdown",
   "id": "aa4b3430-dd88-4bef-94e6-d93444410d08",
   "metadata": {},
   "source": [
    "## 2. Run Bert\n",
    "\n",
    "Process fails while running: `pip3 install tensorflow`"
   ]
  },
  {
   "cell_type": "code",
   "execution_count": null,
   "id": "e58d02ed-3d0b-4810-b391-28dbe48a23de",
   "metadata": {},
   "outputs": [],
   "source": []
  }
 ],
 "metadata": {
  "kernelspec": {
   "display_name": "python37",
   "language": "python",
   "name": "python37"
  },
  "language_info": {
   "codemirror_mode": {
    "name": "ipython",
    "version": 3
   },
   "file_extension": ".py",
   "mimetype": "text/x-python",
   "name": "python",
   "nbconvert_exporter": "python",
   "pygments_lexer": "ipython3",
   "version": "3.7.3"
  }
 },
 "nbformat": 4,
 "nbformat_minor": 5
}
